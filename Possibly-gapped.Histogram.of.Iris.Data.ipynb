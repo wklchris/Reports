{
 "cells": [
  {
   "cell_type": "markdown",
   "metadata": {},
   "source": [
    "# Possibly-gapped Histogram of Iris Data\n",
    "\n",
    "*Feb, 2017 by Kanglong Wu*\n",
    "\n",
    "**Iris Data is built-in in R.** _It is from [this webpage](https://archive.ics.uci.edu/ml/datasets/Iris) of UCI Machine Learning Repository. Or you can download its CSV file from the \"data\" folder [here](https://github.com/wklchris/Reports)._ \n",
    "\n",
    "## Read the data\n",
    "\n",
    "Iris data has 5 features (columns), which are: \n",
    "\n",
    "1. sepal length in cm \n",
    "2. sepal width in cm \n",
    "3. petal length in cm \n",
    "4. petal width in cm \n",
    "5. class: \n",
    "    - Setosa \n",
    "    - Versicolour \n",
    "    - Virginica\n",
    "    \n",
    "Use the object \"iris\" to access the data directly."
   ]
  },
  {
   "cell_type": "code",
   "execution_count": 1,
   "metadata": {
    "collapsed": false
   },
   "outputs": [
    {
     "data": {
      "text/html": [
       "<table>\n",
       "<thead><tr><th scope=col>Sepal.Length</th><th scope=col>Sepal.Width</th><th scope=col>Petal.Length</th><th scope=col>Petal.Width</th><th scope=col>Species</th></tr></thead>\n",
       "<tbody>\n",
       "\t<tr><td>5.1   </td><td>3.5   </td><td>1.4   </td><td>0.2   </td><td>setosa</td></tr>\n",
       "\t<tr><td>4.9   </td><td>3.0   </td><td>1.4   </td><td>0.2   </td><td>setosa</td></tr>\n",
       "\t<tr><td>4.7   </td><td>3.2   </td><td>1.3   </td><td>0.2   </td><td>setosa</td></tr>\n",
       "</tbody>\n",
       "</table>\n"
      ],
      "text/latex": [
       "\\begin{tabular}{r|lllll}\n",
       " Sepal.Length & Sepal.Width & Petal.Length & Petal.Width & Species\\\\\n",
       "\\hline\n",
       "\t 5.1    & 3.5    & 1.4    & 0.2    & setosa\\\\\n",
       "\t 4.9    & 3.0    & 1.4    & 0.2    & setosa\\\\\n",
       "\t 4.7    & 3.2    & 1.3    & 0.2    & setosa\\\\\n",
       "\\end{tabular}\n"
      ],
      "text/markdown": [
       "\n",
       "Sepal.Length | Sepal.Width | Petal.Length | Petal.Width | Species | \n",
       "|---|---|---|\n",
       "| 5.1    | 3.5    | 1.4    | 0.2    | setosa | \n",
       "| 4.9    | 3.0    | 1.4    | 0.2    | setosa | \n",
       "| 4.7    | 3.2    | 1.3    | 0.2    | setosa | \n",
       "\n",
       "\n"
      ],
      "text/plain": [
       "  Sepal.Length Sepal.Width Petal.Length Petal.Width Species\n",
       "1 5.1          3.5         1.4          0.2         setosa \n",
       "2 4.9          3.0         1.4          0.2         setosa \n",
       "3 4.7          3.2         1.3          0.2         setosa "
      ]
     },
     "metadata": {},
     "output_type": "display_data"
    }
   ],
   "source": [
    "head(iris, 3)"
   ]
  },
  {
   "cell_type": "markdown",
   "metadata": {},
   "source": [
    "### Build the tree\n",
    "\n",
    "We can build 4 trees based on sepal/petal length/width. "
   ]
  },
  {
   "cell_type": "code",
   "execution_count": 2,
   "metadata": {
    "collapsed": false
   },
   "outputs": [
    {
     "data": {
      "image/png": "[encoded data removed]",
      "text/plain": [
       "Plot with title \"\""
      ]
     },
     "metadata": {},
     "output_type": "display_data"
    }
   ],
   "source": [
    "plot.tree <- function(vector, species=iris$Species, num=3, title=\"\", dist_method=\"euclidean\", cl_method=\"complete\") {\n",
    "    # Plot a hierarchical tree based on 1-feature data. \n",
    "    # \n",
    "    # Args:\n",
    "    #     vector: One-column data.\n",
    "    #     species: A factor.\n",
    "    #     num: Number of clusters.\n",
    "    #     title: The title of figure.\n",
    "    #     dist_method: Method of distance calculation.\n",
    "    #     cl_method: Method of HC algorithm.\n",
    "    #\n",
    "    # Returns:\n",
    "    #     Result of cluster.\n",
    "    \n",
    "    d <- dist(vector, method=dist_method)\n",
    "    hc <- hclust(d, method=cl_method)\n",
    "    \n",
    "    par(fig=c(0, 1, 0, 1))\n",
    "    plot(hc, hang=-1, axes=FALSE, xlab=\"\", ylab=\"\", main=title)\n",
    "    rect.hclust(hc, k=num)\n",
    "    legend(\"right\", names(table(iris$Species)), pch=16, col=terrain.colors(num))\n",
    "    \n",
    "    par(fig=c(0, 1, 0, 0.33), new=TRUE)\n",
    "    plot(c(1, length(vector)), c(0, 1), type=\"n\", axes=F, xlab=\"\", ylab=\"\", main=\"\")\n",
    "    # rect(seq(1,150)-1, 0, seq(1, 150), 1, col=terrain.colors(num)[cutree(hc, k=num)[hc$order]])\n",
    "    rect(seq(1,length(vector))-1, 0, seq(1,length(vector)), 1, col=terrain.colors(num)[factor(species)[hc$order]])\n",
    "    \n",
    "    return(hc)\n",
    "}\n",
    "\n",
    "iris.SL <- plot.tree(iris$Sepal.Length, num=3, title=\"Sepal Length\")"
   ]
  }
 ],
 "metadata": {
  "kernelspec": {
   "display_name": "R",
   "language": "R",
   "name": "ir"
  },
  "language_info": {
   "codemirror_mode": "r",
   "file_extension": ".r",
   "mimetype": "text/x-r-source",
   "name": "R",
   "pygments_lexer": "r",
   "version": "3.3.2"
  }
 },
 "nbformat": 4,
 "nbformat_minor": 2
}
