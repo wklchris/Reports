{
 "cells": [
  {
   "cell_type": "markdown",
   "metadata": {},
   "source": [
    "# Possibly-gapped Histogram of Iris Data\n",
    "\n",
    "*Feb, 2017 by K.Wu*\n",
    "\n",
    "**Iris Data is built-in in R.** _It is from [this webpage](https://archive.ics.uci.edu/ml/datasets/Iris) of UCI Machine Learning Repository. Or you can download its CSV file from the \"data\" folder [here](https://github.com/wklchris/Reports)._ \n",
    "\n",
    "## Read the data\n",
    "\n",
    "Iris data has 5 features (columns), which are: \n",
    "\n",
    "1. sepal length in cm \n",
    "2. sepal width in cm \n",
    "3. petal length in cm \n",
    "4. petal width in cm \n",
    "5. class: \n",
    "    - Setosa \n",
    "    - Versicolour \n",
    "    - Virginica\n",
    "    \n",
    "Use the object \"iris\" to access the data directly."
   ]
  },
  {
   "cell_type": "code",
   "execution_count": 1,
   "metadata": {
    "collapsed": false
   },
   "outputs": [
    {
     "data": {
      "text/html": [
       "<table>\n",
       "<thead><tr><th scope=col>Sepal.Length</th><th scope=col>Sepal.Width</th><th scope=col>Petal.Length</th><th scope=col>Petal.Width</th><th scope=col>Species</th></tr></thead>\n",
       "<tbody>\n",
       "\t<tr><td>5.1   </td><td>3.5   </td><td>1.4   </td><td>0.2   </td><td>setosa</td></tr>\n",
       "\t<tr><td>4.9   </td><td>3.0   </td><td>1.4   </td><td>0.2   </td><td>setosa</td></tr>\n",
       "\t<tr><td>4.7   </td><td>3.2   </td><td>1.3   </td><td>0.2   </td><td>setosa</td></tr>\n",
       "</tbody>\n",
       "</table>\n"
      ],
      "text/latex": [
       "\\begin{tabular}{r|lllll}\n",
       " Sepal.Length & Sepal.Width & Petal.Length & Petal.Width & Species\\\\\n",
       "\\hline\n",
       "\t 5.1    & 3.5    & 1.4    & 0.2    & setosa\\\\\n",
       "\t 4.9    & 3.0    & 1.4    & 0.2    & setosa\\\\\n",
       "\t 4.7    & 3.2    & 1.3    & 0.2    & setosa\\\\\n",
       "\\end{tabular}\n"
      ],
      "text/markdown": [
       "\n",
       "Sepal.Length | Sepal.Width | Petal.Length | Petal.Width | Species | \n",
       "|---|---|---|\n",
       "| 5.1    | 3.5    | 1.4    | 0.2    | setosa | \n",
       "| 4.9    | 3.0    | 1.4    | 0.2    | setosa | \n",
       "| 4.7    | 3.2    | 1.3    | 0.2    | setosa | \n",
       "\n",
       "\n"
      ],
      "text/plain": [
       "  Sepal.Length Sepal.Width Petal.Length Petal.Width Species\n",
       "1 5.1          3.5         1.4          0.2         setosa \n",
       "2 4.9          3.0         1.4          0.2         setosa \n",
       "3 4.7          3.2         1.3          0.2         setosa "
      ]
     },
     "metadata": {},
     "output_type": "display_data"
    }
   ],
   "source": [
    "head(iris, 3)"
   ]
  },
  {
   "cell_type": "markdown",
   "metadata": {},
   "source": [
    "## Build the tree\n",
    "\n",
    "We can build 4 trees based on sepal/petal length/width. Using euclidean distance.\n",
    "\n",
    "Take sepal length as an example:"
   ]
  },
  {
   "cell_type": "code",
   "execution_count": 2,
   "metadata": {
    "collapsed": false
   },
   "outputs": [
    {
     "data": {
      "image/png": "[encoded data removed]",
      "text/plain": [
       "Plot with title \"\""
      ]
     },
     "metadata": {},
     "output_type": "display_data"
    }
   ],
   "source": [
    "plot.tree <- function(vector, species=iris$Species, num=3, bins=1, \n",
    "                      layouts=c(0.4, 0.7, 0.6), title=\"\",\n",
    "                      cl_method=\"complete\", is.return=TRUE) {\n",
    "    # Plot a hierarchical tree based on 1-feature data. \n",
    "    # \n",
    "    # Args:\n",
    "    #     vector: One-column data.\n",
    "    #     species: A factor showing the class for each subject (row).\n",
    "    #     num: Number of clusters.\n",
    "    #     bins: Boundary points of bins for decoding.\n",
    "    #     layouts: Drawing layouts. If length < 3, only draw the tree.\n",
    "    #         Index 1~2: The height range of the colorbar.\n",
    "    #         Index 3: The height of the lower 2 figures' top.\n",
    "    #     title: The title of figure.\n",
    "    #     cl_method: Method of HC algorithm.\n",
    "    #\n",
    "    # Returns:\n",
    "    #     A sequence of order based on distance.\n",
    "    \n",
    "    d <- dist(vector, method=\"euclidean\")\n",
    "    hc <- hclust(d, method=cl_method)\n",
    "    rect.colors <- terrain.colors(num)\n",
    "    \n",
    "    # Main tree figure\n",
    "    par(fig=c(0, 1, layouts[1], 1))\n",
    "    plot(hc, hang=-1, labels=FALSE, axes=FALSE, xlab=\"\", ylab=\"\", main=title)\n",
    "    rect.hclust(hc, k=num)\n",
    "    legend(\"right\", names(table(iris$Species)), cex=0.8, pch=16, col=rect.colors)\n",
    "    \n",
    "    par(fig=c(0, 1, layouts[1:2]), new=TRUE)\n",
    "    plot(c(1, length(vector)), c(0, 1), type=\"n\", axes=F, xlab=\"\", ylab=\"\", main=\"\", sub=\"\")\n",
    "    # rect(seq(1,150)-1, 0, seq(1, 150), 1, col=rect.colors[cutree(hc, k=num)[hc$order]])\n",
    "    rect(seq(1,length(vector))-1, 0, seq(1,length(vector)), 1, col=rect.colors[factor(species)[hc$order]])\n",
    "    \n",
    "    # Distance between each two subjects under the HC-order sequence\n",
    "    x <- data.frame(Order=hc$order, Value=vector[hc$order], Max=NA, Min=NA, Dist=NA)\n",
    "    x$Max[1] <- x$Value[1]\n",
    "    x$Min[1] <- x$Value[1]\n",
    "    for (row in seq(2, length(vector))) {\n",
    "        y <- x$Value[row]\n",
    "        x$Dist[row] <- max(abs(y-x$Max[row-1]), abs(y-x$Min[row-1]))\n",
    "        x$Max[row] <- max(y, x$Max[row-1])\n",
    "        x$Min[row] <- min(y, x$Min[row-1])\n",
    "    }\n",
    "    \n",
    "    if (length(layouts) > 2) {\n",
    "        # Lower-left CDF figure\n",
    "        par(fig=c(0, 0.5, 0, layouts[3]), new=TRUE)\n",
    "        f.ecd <- ecdf(x$Dist)\n",
    "        uniq.ecd <- knots(f.ecd)\n",
    "        plot(f.ecd, verticals=F, do.points=T, cex=0.5,\n",
    "             xlab=paste(\"max:\", uniq.ecd[length(uniq.ecd)], \"min:\", uniq.ecd[1]),\n",
    "             ylab=\"\", main=\"\")\n",
    "        if (length(bins) > 1) {\n",
    "            points(bins, f.ecd(bins), pch=4, col=\"red\", lwd=2, cex=1.2)\n",
    "            lines(bins, f.ecd(bins), col=\"red\")\n",
    "        }\n",
    "        abline(v=uniq.ecd, lty=2, col=\"gray\")\n",
    "\n",
    "        # Lower-right Possibly-gapped Hist\n",
    "        par(fig=c(0.5, 1, 0, layouts[3]), new=TRUE)\n",
    "        if (length(bins) > 1) {\n",
    "            hist(x$Dist, breaks=bins, col=\"lightgreen\", xlab=\"\", ylab=\"\", main=\"\")\n",
    "        } else {\n",
    "            hist(x$Dist, col=\"lightgreen\", xlab=\"\", ylab=\"\", main=\"\")\n",
    "        }\n",
    "    }\n",
    "    if (is.return == TRUE) { return(x) }\n",
    "}\n",
    "\n",
    "bins.SL <- c(0, 0.3, 0.4, 1.2, 1.7, 2.4, 2.6, 2.8, 3, 3.6)\n",
    "iris.SL <- plot.tree(iris$Sepal.Length, num=3, title=\"Sepal Length\", bins=bins.SL)"
   ]
  },
  {
   "cell_type": "code",
   "execution_count": 3,
   "metadata": {
    "collapsed": false
   },
   "outputs": [
    {
     "data": {
      "image/png": "[encoded data removed]",
      "text/plain": [
       "Plot with title \"\""
      ]
     },
     "metadata": {},
     "output_type": "display_data"
    }
   ],
   "source": [
    "plot.tree(iris$Sepal.Length, num=3, title=\"Sepal Length\",\n",
    "          layouts=c(0,0.3), is.return=F)"
   ]
  }
 ],
 "metadata": {
  "kernelspec": {
   "display_name": "R",
   "language": "R",
   "name": "ir"
  },
  "language_info": {
   "codemirror_mode": "r",
   "file_extension": ".r",
   "mimetype": "text/x-r-source",
   "name": "R",
   "pygments_lexer": "r",
   "version": "3.3.2"
  }
 },
 "nbformat": 4,
 "nbformat_minor": 2
}
