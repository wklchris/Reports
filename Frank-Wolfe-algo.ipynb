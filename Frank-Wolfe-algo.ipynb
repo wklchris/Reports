{
 "cells": [
  {
   "cell_type": "markdown",
   "metadata": {},
   "source": [
    "# Frank-Wolfe Algorithm\n",
    "\n",
    "*Mar, 2017 by K.Wu*\n",
    "\n",
    "In this report, network are presented as a CSV file:\n",
    "\n",
    "- [**/data/Frank-Wolfe-algo-data.csv**](https://github.com/wklchris/Reports/blob/master/data/Frank-Wolfe-algo-data.csv): All links of the network.\n",
    "\n",
    "First, here are the packages needed in this report. Install: \n",
    "\n",
    "- Python 3\n",
    "- numpy package\n",
    "- pandas package\n",
    "\n",
    "to continue."
   ]
  },
  {
   "cell_type": "code",
   "execution_count": 1,
   "metadata": {
    "collapsed": true
   },
   "outputs": [],
   "source": [
    "import os\n",
    "import numpy as np\n",
    "import pandas as pd"
   ]
  },
  {
   "cell_type": "markdown",
   "metadata": {},
   "source": [
    "## Introduction\n",
    "\n",
    "In this report, we have a network like below:\n",
    "\n",
    "<img src=\"https://raw.githubusercontent.com/wklchris/Reports/master/data/Frank-Wolfe-algo-network.png\" alt=\"Network Picture\" style=\"width: 500px;\"/>\n",
    "\n",
    "The free flow travel time $t_a$ and capacities $c_a$ for each type of link are:\n",
    "\n",
    "- Black links: $t_a = 10, c_a = 50$\n",
    "- Red links: $t_a = 30, c_a = 200$\n",
    "- Yellow links: $t_a = 15, c_a = 200$\n",
    "- Cyan links: $t_a = 0, c_a = 2000$"
   ]
  },
  {
   "cell_type": "markdown",
   "metadata": {},
   "source": [
    "We also have the O-D table of this network, shown as below:"
   ]
  },
  {
   "cell_type": "code",
   "execution_count": 2,
   "metadata": {
    "collapsed": false
   },
   "outputs": [
    {
     "data": {
      "text/html": [
       "<div>\n",
       "<table border=\"1\" class=\"dataframe\">\n",
       "  <thead>\n",
       "    <tr style=\"text-align: right;\">\n",
       "      <th></th>\n",
       "      <th>201</th>\n",
       "      <th>202</th>\n",
       "      <th>203</th>\n",
       "      <th>204</th>\n",
       "    </tr>\n",
       "  </thead>\n",
       "  <tbody>\n",
       "    <tr>\n",
       "      <th>101</th>\n",
       "      <td>100</td>\n",
       "      <td>200</td>\n",
       "      <td>300</td>\n",
       "      <td>50</td>\n",
       "    </tr>\n",
       "    <tr>\n",
       "      <th>102</th>\n",
       "      <td>100</td>\n",
       "      <td>200</td>\n",
       "      <td>200</td>\n",
       "      <td>100</td>\n",
       "    </tr>\n",
       "    <tr>\n",
       "      <th>103</th>\n",
       "      <td>300</td>\n",
       "      <td>50</td>\n",
       "      <td>100</td>\n",
       "      <td>100</td>\n",
       "    </tr>\n",
       "    <tr>\n",
       "      <th>104</th>\n",
       "      <td>200</td>\n",
       "      <td>500</td>\n",
       "      <td>50</td>\n",
       "      <td>200</td>\n",
       "    </tr>\n",
       "  </tbody>\n",
       "</table>\n",
       "</div>"
      ],
      "text/plain": [
       "     201  202  203  204\n",
       "101  100  200  300   50\n",
       "102  100  200  200  100\n",
       "103  300   50  100  100\n",
       "104  200  500   50  200"
      ]
     },
     "execution_count": 2,
     "metadata": {},
     "output_type": "execute_result"
    }
   ],
   "source": [
    "ODarr = pd.DataFrame([[100, 200, 300, 50],\n",
    "                      [100, 200, 200, 100],\n",
    "                      [300, 50, 100, 100],\n",
    "                      [200, 500, 50, 200]])\n",
    "\n",
    "# Rename columns & rows\n",
    "ODarr.columns = list(range(201, 205))\n",
    "ODarr.index = list(range(101, 105))\n",
    "\n",
    "ODarr"
   ]
  },
  {
   "cell_type": "markdown",
   "metadata": {},
   "source": [
    "## Network Representation\n",
    "\n"
   ]
  },
  {
   "cell_type": "code",
   "execution_count": 3,
   "metadata": {
    "collapsed": false
   },
   "outputs": [
    {
     "data": {
      "text/html": [
       "<div>\n",
       "<table border=\"1\" class=\"dataframe\">\n",
       "  <thead>\n",
       "    <tr style=\"text-align: right;\">\n",
       "      <th></th>\n",
       "      <th>start</th>\n",
       "      <th>end</th>\n",
       "      <th>type</th>\n",
       "    </tr>\n",
       "  </thead>\n",
       "  <tbody>\n",
       "    <tr>\n",
       "      <th>0</th>\n",
       "      <td>1</td>\n",
       "      <td>2</td>\n",
       "      <td>black</td>\n",
       "    </tr>\n",
       "    <tr>\n",
       "      <th>1</th>\n",
       "      <td>2</td>\n",
       "      <td>3</td>\n",
       "      <td>black</td>\n",
       "    </tr>\n",
       "    <tr>\n",
       "      <th>2</th>\n",
       "      <td>3</td>\n",
       "      <td>4</td>\n",
       "      <td>black</td>\n",
       "    </tr>\n",
       "    <tr>\n",
       "      <th>3</th>\n",
       "      <td>14</td>\n",
       "      <td>15</td>\n",
       "      <td>black</td>\n",
       "    </tr>\n",
       "    <tr>\n",
       "      <th>4</th>\n",
       "      <td>15</td>\n",
       "      <td>16</td>\n",
       "      <td>black</td>\n",
       "    </tr>\n",
       "  </tbody>\n",
       "</table>\n",
       "</div>"
      ],
      "text/plain": [
       "   start  end   type\n",
       "0      1    2  black\n",
       "1      2    3  black\n",
       "2      3    4  black\n",
       "3     14   15  black\n",
       "4     15   16  black"
      ]
     },
     "execution_count": 3,
     "metadata": {},
     "output_type": "execute_result"
    }
   ],
   "source": [
    "linkarr = pd.read_csv(r\"{}/data/Frank-Wolfe-algo-data.csv\".format(os.getcwd()))\n",
    "linkarr.head()"
   ]
  },
  {
   "cell_type": "markdown",
   "metadata": {},
   "source": [
    "We can modify the link array according to the type:"
   ]
  },
  {
   "cell_type": "code",
   "execution_count": 4,
   "metadata": {
    "collapsed": false
   },
   "outputs": [
    {
     "data": {
      "text/html": [
       "<div>\n",
       "<table border=\"1\" class=\"dataframe\">\n",
       "  <thead>\n",
       "    <tr style=\"text-align: right;\">\n",
       "      <th></th>\n",
       "      <th>start</th>\n",
       "      <th>end</th>\n",
       "      <th>type</th>\n",
       "      <th>fftime</th>\n",
       "      <th>cap</th>\n",
       "    </tr>\n",
       "  </thead>\n",
       "  <tbody>\n",
       "    <tr>\n",
       "      <th>0</th>\n",
       "      <td>1</td>\n",
       "      <td>2</td>\n",
       "      <td>black</td>\n",
       "      <td>10</td>\n",
       "      <td>50</td>\n",
       "    </tr>\n",
       "    <tr>\n",
       "      <th>1</th>\n",
       "      <td>2</td>\n",
       "      <td>3</td>\n",
       "      <td>black</td>\n",
       "      <td>10</td>\n",
       "      <td>50</td>\n",
       "    </tr>\n",
       "    <tr>\n",
       "      <th>2</th>\n",
       "      <td>3</td>\n",
       "      <td>4</td>\n",
       "      <td>black</td>\n",
       "      <td>10</td>\n",
       "      <td>50</td>\n",
       "    </tr>\n",
       "  </tbody>\n",
       "</table>\n",
       "</div>"
      ],
      "text/plain": [
       "   start  end   type  fftime  cap\n",
       "0      1    2  black      10   50\n",
       "1      2    3  black      10   50\n",
       "2      3    4  black      10   50"
      ]
     },
     "execution_count": 4,
     "metadata": {},
     "output_type": "execute_result"
    }
   ],
   "source": [
    "linkarr[\"fftime\"] = 0\n",
    "linkarr[\"cap\"] = 0\n",
    "\n",
    "# Set the FreeFlowTraveltime and Capacity of each link\n",
    "linkarr.loc[linkarr.type == \"black\", \"fftime\"] = 10\n",
    "linkarr.loc[linkarr.type == \"black\", \"cap\"] = 50\n",
    "linkarr.loc[linkarr.type == \"yellow\", \"fftime\"] = 15\n",
    "linkarr.loc[linkarr.type == \"yellow\", \"cap\"] = 200\n",
    "linkarr.loc[linkarr.type == \"red\", \"fftime\"] = 30\n",
    "linkarr.loc[linkarr.type == \"red\", \"cap\"] = 200\n",
    "linkarr.loc[linkarr.type == \"cyan\", \"fftime\"] = 0\n",
    "linkarr.loc[linkarr.type == \"cyan\", \"cap\"] = 2000\n",
    "\n",
    "linkarr.head(3)"
   ]
  },
  {
   "cell_type": "markdown",
   "metadata": {},
   "source": [
    "## Application Scenarios\n",
    "\n",
    "As for the costs, we use BPR function to compute the cost on each link. Cost on link $a$, called $t_a$, is a function of $x_a$:\n",
    "\n",
    "$$ t_a(x_a) = t_a^0 \\left[1 + \\alpha\\left(\\frac{x_a}{c_a'}\\right)^\\beta\\right] $$\n",
    "\n",
    "where $\\alpha = 0.15, \\beta = 4, c_a' = 0.9c_a$. And we can define it as a function:"
   ]
  },
  {
   "cell_type": "code",
   "execution_count": 5,
   "metadata": {
    "collapsed": true
   },
   "outputs": [],
   "source": [
    "def bpr(xa, fft, ca, alpha=0.15, beta=4, ca_factor=0.9):\n",
    "    \"\"\"\n",
    "    Compute the cost when the flow is 'xa' with BPR function.\n",
    "    \"\"\"\n",
    "    return fft * (1 + alpha * (np.divide(xa, ca_factor * ca) ** beta))"
   ]
  },
  {
   "cell_type": "markdown",
   "metadata": {},
   "source": [
    "As for the shortest path finding, we use the function defined in the [Label-correcting-algo.ipynb](https://github.com/wklchris/Reports/blob/master/Label-correcting-algo.ipynb):"
   ]
  },
  {
   "cell_type": "code",
   "execution_count": 6,
   "metadata": {
    "collapsed": true
   },
   "outputs": [],
   "source": [
    "def label_correcting_algo(dt, ori_node, des_node, do_return=False):\n",
    "    \"\"\"\n",
    "    Find the shortest path from Origin to Destination under a constant-link-costs network.\n",
    "    \n",
    "    Args:\n",
    "        dt: Network representation. At least 3 columns:\n",
    "              \"start\": start nodes of links\n",
    "              \"end\": end nodes of links\n",
    "              \"cost\": constant costs of links\n",
    "        ori_node: Origin node.\n",
    "        des_node: Destination node.\n",
    "        do_return: Boolean. \n",
    "            If True, Return a dataframe as described below.\n",
    "            If False, Return the shortest path string instead.\n",
    "        \n",
    "    Returns:\n",
    "        A dataframe of two columns:\n",
    "            \"Front-Node\": The node visited before current node on the shortest path.\n",
    "            \"Distance\": Total distance from origin to current node.\n",
    "    \"\"\"\n",
    "    # Convert all labels to string\n",
    "    ori = str(ori_node)\n",
    "    des = str(des_node)\n",
    "    dt[[\"start\", \"end\"]] = dt[[\"start\", \"end\"]].astype(str) \n",
    "    \n",
    "    # Initialization\n",
    "    nodes = set(dt.loc[:,\"start\"].unique()) | set(dt.loc[:,\"end\"].unique())\n",
    "    dist = {}.fromkeys(nodes, np.inf)\n",
    "    dist[ori] = 0\n",
    "    points = {}.fromkeys(nodes, ori)\n",
    "    iter_set = {ori}\n",
    "    \n",
    "    # Main Algo\n",
    "    while iter_set:\n",
    "        i = iter_set.pop()  # Randomly pop out a node i\n",
    "        A_i = dt[dt.start == i]\n",
    "        for row in A_i.index: \n",
    "            j = A_i.loc[:, \"end\"][row]\n",
    "            c_ij = A_i.loc[:, \"cost\"][row]\n",
    "            if dist[j] > dist[i] + c_ij:\n",
    "                dist[j] = dist[i] + c_ij\n",
    "                points[j] = i\n",
    "                iter_set = iter_set | set([j])  # Union\n",
    "    \n",
    "    # Print & Return the Answer\n",
    "    x = pd.concat([pd.Series(points), pd.Series(dist)], axis=1)\n",
    "    x.columns = [\"Front-node\", \"Costs\"]\n",
    "\n",
    "    current_node = des\n",
    "    front_node = \"\"\n",
    "    sp = [des]\n",
    "    while front_node != ori:\n",
    "        front_node = str(x.loc[current_node, \"Front-node\"])\n",
    "        # sp = \"{} -> {}\".format(front_node, sp)\n",
    "        sp.insert(0, front_node)\n",
    "        current_node = front_node\n",
    "    \n",
    "    # sp.append(x.loc[des, \"Costs\"])\n",
    "    # sp = \"From node {} to node {}, total cost: {}\\n{}\\n\".format(ori, des, x.loc[des, \"Costs\"], sp)\n",
    "    if do_return:\n",
    "        print(sp)\n",
    "        return x\n",
    "    else:\n",
    "        return sp"
   ]
  },
  {
   "cell_type": "markdown",
   "metadata": {
    "collapsed": true
   },
   "source": [
    "### Q1\n",
    "\n",
    "*Find the user equilibrium (UE) flow pattern, and compute the total travel time experienced by all users (this is not to be confused with the sum of the integral of travel times). Plot the convergence curves (total network link flow vs iteration number, total network travel time vs iteration number) and discuss your results.*\n",
    "\n",
    "-----\n",
    "\n",
    "\n",
    "First, we use free flow travel time to find the initial shortest path. So the cost under this situation equals free flow travel time:"
   ]
  },
  {
   "cell_type": "code",
   "execution_count": 7,
   "metadata": {
    "collapsed": false
   },
   "outputs": [
    {
     "data": {
      "text/html": [
       "<div>\n",
       "<table border=\"1\" class=\"dataframe\">\n",
       "  <thead>\n",
       "    <tr style=\"text-align: right;\">\n",
       "      <th></th>\n",
       "      <th>start</th>\n",
       "      <th>end</th>\n",
       "      <th>type</th>\n",
       "      <th>fftime</th>\n",
       "      <th>cap</th>\n",
       "      <th>cost</th>\n",
       "    </tr>\n",
       "  </thead>\n",
       "  <tbody>\n",
       "    <tr>\n",
       "      <th>0</th>\n",
       "      <td>1</td>\n",
       "      <td>2</td>\n",
       "      <td>black</td>\n",
       "      <td>10</td>\n",
       "      <td>50</td>\n",
       "      <td>10</td>\n",
       "    </tr>\n",
       "    <tr>\n",
       "      <th>1</th>\n",
       "      <td>2</td>\n",
       "      <td>3</td>\n",
       "      <td>black</td>\n",
       "      <td>10</td>\n",
       "      <td>50</td>\n",
       "      <td>10</td>\n",
       "    </tr>\n",
       "    <tr>\n",
       "      <th>2</th>\n",
       "      <td>3</td>\n",
       "      <td>4</td>\n",
       "      <td>black</td>\n",
       "      <td>10</td>\n",
       "      <td>50</td>\n",
       "      <td>10</td>\n",
       "    </tr>\n",
       "    <tr>\n",
       "      <th>3</th>\n",
       "      <td>14</td>\n",
       "      <td>15</td>\n",
       "      <td>black</td>\n",
       "      <td>10</td>\n",
       "      <td>50</td>\n",
       "      <td>10</td>\n",
       "    </tr>\n",
       "    <tr>\n",
       "      <th>4</th>\n",
       "      <td>15</td>\n",
       "      <td>16</td>\n",
       "      <td>black</td>\n",
       "      <td>10</td>\n",
       "      <td>50</td>\n",
       "      <td>10</td>\n",
       "    </tr>\n",
       "  </tbody>\n",
       "</table>\n",
       "</div>"
      ],
      "text/plain": [
       "   start  end   type  fftime  cap  cost\n",
       "0      1    2  black      10   50    10\n",
       "1      2    3  black      10   50    10\n",
       "2      3    4  black      10   50    10\n",
       "3     14   15  black      10   50    10\n",
       "4     15   16  black      10   50    10"
      ]
     },
     "execution_count": 7,
     "metadata": {},
     "output_type": "execute_result"
    }
   ],
   "source": [
    "bprlinkarr = linkarr.copy()\n",
    "bprlinkarr[\"cost\"] = bprlinkarr.fftime\n",
    "\n",
    "bprlinkarr.head()"
   ]
  },
  {
   "cell_type": "code",
   "execution_count": 8,
   "metadata": {
    "collapsed": false
   },
   "outputs": [
    {
     "data": {
      "text/plain": [
       "0.1953125"
      ]
     },
     "execution_count": 8,
     "metadata": {},
     "output_type": "execute_result"
    }
   ],
   "source": [
    "def solvex4eq(q0, q1, q2, q3, q4, theta=0.01, a=0, b=1):\n",
    "    \"\"\"\n",
    "    Bi-section method to solve quartic equation.\n",
    "    \"\"\"\n",
    "    y = lambda x: q0 + q1 * x + q2 * x ** 2 + q3 * x ** 3 + q4 * x ** 4\n",
    "    fa = y(a)\n",
    "    fb = y(b)\n",
    "    \n",
    "    if fa * fb > 0:\n",
    "        return list(map(y, np.linspace(a, b, 20)))\n",
    "    elif (fa == 0):\n",
    "        return a\n",
    "    elif (fb == 0):\n",
    "        return b\n",
    "    \n",
    "    while (b - a > theta):\n",
    "        c = (b + a) / 2\n",
    "        fc = y(c)\n",
    "        if (fc == 0):\n",
    "            return c\n",
    "        elif (fc * fa < 0):\n",
    "            b = c\n",
    "        elif (fc * fb < 0):\n",
    "            a = c\n",
    "    \n",
    "    return c\n",
    "\n",
    "solvex4eq(-0.2, 0.4, 2.4, 2.8, 1)"
   ]
  },
  {
   "cell_type": "markdown",
   "metadata": {},
   "source": [
    "And we need another function to do the AON assignment to the network, i.e. assign the demand between OD to the shortest path:"
   ]
  },
  {
   "cell_type": "code",
   "execution_count": 9,
   "metadata": {
    "collapsed": false
   },
   "outputs": [
    {
     "name": "stdout",
     "output_type": "stream",
     "text": [
      "Solving error. Iteration: 2\n"
     ]
    },
    {
     "data": {
      "text/plain": [
       "[4477.7123536897716,\n",
       " 3700.5722896982638,\n",
       " 3042.9536122983259,\n",
       " 2492.0832184479095,\n",
       " 2035.9242264084273,\n",
       " 1663.1759757447558,\n",
       " 1363.2740273252341,\n",
       " 1126.3901633216622,\n",
       " 943.43238720930481,\n",
       " 806.04492376689018,\n",
       " 706.60821907660556,\n",
       " 638.23894052410344,\n",
       " 594.78997679850136,\n",
       " 570.85043789237,\n",
       " 561.74565510175421,\n",
       " 563.53718102615699,\n",
       " 573.02278956853934,\n",
       " 587.7364759353336,\n",
       " 605.94845663642718,\n",
       " 626.66516948517483]"
      ]
     },
     "execution_count": 9,
     "metadata": {},
     "output_type": "execute_result"
    }
   ],
   "source": [
    "def frank_wolfe(x, OD_arr, thre=1, alpha=0.15):\n",
    "    ori_lst = OD_arr.index\n",
    "    des_lst = OD_arr.columns\n",
    "    err = thre + 1\n",
    "    iters = 0\n",
    "    \n",
    "    while (err > thre):\n",
    "        iters += 1        \n",
    "        new_col = \"xa{}\".format(iters)\n",
    "        x[new_col] = 0\n",
    "        \n",
    "        # AON assignment\n",
    "        for i in range(len(ori_lst)):\n",
    "            ori = ori_lst[i]\n",
    "            for j in range(len(des_lst)):\n",
    "                des = des_lst[j]\n",
    "                demand = OD_arr.at[ori, des]\n",
    "                splst = label_correcting_algo(x, ori, des)\n",
    "                while len(splst) > 1:\n",
    "                    current_node = splst.pop()\n",
    "                    front_node = splst[-1]\n",
    "                    x.loc[(x.start == front_node) & (x.end == current_node), new_col] += demand\n",
    "        \n",
    "        # Update the costs\n",
    "        x.cost = bpr(x[new_col], x.fftime, x.cap)\n",
    "        \n",
    "        # Line search\n",
    "        if (iters > 1):\n",
    "            direction = x[new_col] - x[old_col]\n",
    "            \n",
    "            # Compute the coefficients of the equation of k. 0 <= k <= 1.\n",
    "            p0 = (0.15 * alpha) / ((0.9 * x.cap) ** 4) * x[old_col] ** 4 + x.fftime\n",
    "            p1 = 4 * (0.15 * alpha) / ((0.9 * x.cap) ** 4) * np.multiply(x[old_col] ** 3, direction)\n",
    "            p2 = 6 * (0.15 * alpha) / ((0.9 * x.cap) ** 4) * np.multiply(x[old_col] ** 2, direction ** 2)\n",
    "            p3 = 4 * (0.15 * alpha) / ((0.9 * x.cap) ** 4) * np.multiply(x[old_col], direction ** 3)\n",
    "            p4 = (0.15 * alpha) / ((0.9 * x.cap) ** 4) * x[old_col] ** 4\n",
    "            k = solvex4eq(sum(p0), sum(p1), sum(p2), sum(p3), sum(p4))\n",
    "            if (type(k) != type(1)):\n",
    "                print(\"Solving error. Iteration: {}\".format(iters))\n",
    "                return k\n",
    "            x[new_col] = x[old_col] + k * (x.loc[:, new_col] - x[old_col])\n",
    "            \n",
    "            # Compute the error\n",
    "            err = np.sqrt(sum((x[new_col] - x[old_col]) ** 2)) / sum(x[old_col])\n",
    "            \n",
    "        # Move the iteration forward    \n",
    "        old_col = \"xa{}\".format(iters)\n",
    "        \n",
    "        if (iters > 10):\n",
    "            print(\"Too many iterations.\")\n",
    "            return -1000\n",
    "            \n",
    "    return x\n",
    "\n",
    "frank_wolfe(bprlinkarr, ODarr)"
   ]
  }
 ],
 "metadata": {
  "kernelspec": {
   "display_name": "Python 3",
   "language": "python",
   "name": "python3"
  },
  "language_info": {
   "codemirror_mode": {
    "name": "ipython",
    "version": 3
   },
   "file_extension": ".py",
   "mimetype": "text/x-python",
   "name": "python",
   "nbconvert_exporter": "python",
   "pygments_lexer": "ipython3",
   "version": "3.5.2"
  }
 },
 "nbformat": 4,
 "nbformat_minor": 2
}
