{
 "cells": [
  {
   "cell_type": "markdown",
   "metadata": {},
   "source": [
    "# Frank-Wolfe Algorithm\n",
    "\n",
    "*Mar, 2017 by K.Wu*\n",
    "\n",
    "In this report, network are presented as a CSV file:\n",
    "\n",
    "- [**/data/Frank-Wolfe-algo-data.csv**](https://github.com/wklchris/Reports/blob/master/data/Frank-Wolfe-algo-data.csv): All links of the network.\n",
    "\n",
    "First, here are the packages needed in this report. Install: \n",
    "\n",
    "- Python 3\n",
    "- numpy package\n",
    "- pandas package\n",
    "\n",
    "to continue."
   ]
  },
  {
   "cell_type": "code",
   "execution_count": 1,
   "metadata": {
    "collapsed": true
   },
   "outputs": [],
   "source": [
    "import os\n",
    "import numpy as np\n",
    "import pandas as pd"
   ]
  },
  {
   "cell_type": "markdown",
   "metadata": {},
   "source": [
    "## Introduction\n",
    "\n",
    "In this report, we have a network like below:\n",
    "\n",
    "![Network Picture](https://github.com/wklchris/Reports/blob/master/data/Frank-Wolfe-algo-network.png)\n",
    "\n",
    "The free flow travel time $t_a$ and capacities $c_a$ for each type of link are:\n",
    "\n",
    "- Black links: $t_a = 10, c_a = 50$\n",
    "- Red links: $t_a = 30, c_a = 200$\n",
    "- Yellow links: $t_a = 15, c_a = 200$\n",
    "- Cyan links: $t_a = 0, c_a = 2000$"
   ]
  },
  {
   "cell_type": "markdown",
   "metadata": {},
   "source": [
    "We also have the O-D table of this network, shown as below:"
   ]
  },
  {
   "cell_type": "code",
   "execution_count": 2,
   "metadata": {
    "collapsed": false
   },
   "outputs": [
    {
     "data": {
      "text/html": [
       "<div>\n",
       "<table border=\"1\" class=\"dataframe\">\n",
       "  <thead>\n",
       "    <tr style=\"text-align: right;\">\n",
       "      <th></th>\n",
       "      <th>201</th>\n",
       "      <th>202</th>\n",
       "      <th>203</th>\n",
       "      <th>204</th>\n",
       "    </tr>\n",
       "  </thead>\n",
       "  <tbody>\n",
       "    <tr>\n",
       "      <th>101</th>\n",
       "      <td>100</td>\n",
       "      <td>200</td>\n",
       "      <td>300</td>\n",
       "      <td>50</td>\n",
       "    </tr>\n",
       "    <tr>\n",
       "      <th>102</th>\n",
       "      <td>100</td>\n",
       "      <td>200</td>\n",
       "      <td>200</td>\n",
       "      <td>100</td>\n",
       "    </tr>\n",
       "    <tr>\n",
       "      <th>103</th>\n",
       "      <td>300</td>\n",
       "      <td>50</td>\n",
       "      <td>100</td>\n",
       "      <td>100</td>\n",
       "    </tr>\n",
       "    <tr>\n",
       "      <th>104</th>\n",
       "      <td>200</td>\n",
       "      <td>500</td>\n",
       "      <td>50</td>\n",
       "      <td>200</td>\n",
       "    </tr>\n",
       "  </tbody>\n",
       "</table>\n",
       "</div>"
      ],
      "text/plain": [
       "     201  202  203  204\n",
       "101  100  200  300   50\n",
       "102  100  200  200  100\n",
       "103  300   50  100  100\n",
       "104  200  500   50  200"
      ]
     },
     "execution_count": 2,
     "metadata": {},
     "output_type": "execute_result"
    }
   ],
   "source": [
    "ODarr = pd.DataFrame([[100, 200, 300, 50],\n",
    "                      [100, 200, 200, 100],\n",
    "                      [300, 50, 100, 100],\n",
    "                      [200, 500, 50, 200]])\n",
    "\n",
    "# Rename columns & rows\n",
    "ODarr.columns = list(range(201, 205))\n",
    "ODarr.index = list(range(101, 105))\n",
    "\n",
    "ODarr"
   ]
  },
  {
   "cell_type": "markdown",
   "metadata": {},
   "source": [
    "Notice that the capacity of cyan links are 2000, which is larger than demand of any single destination node ($201\\sim 204$). \n",
    "\n",
    "**So we can exclude those O/D nodes in our network representation step.** We only need to add them to the results in the very last step --- and their costs are also constant when the demand of each destination is fixed."
   ]
  },
  {
   "cell_type": "markdown",
   "metadata": {},
   "source": [
    "## Network Representation\n",
    "\n"
   ]
  },
  {
   "cell_type": "code",
   "execution_count": 3,
   "metadata": {
    "collapsed": false
   },
   "outputs": [
    {
     "data": {
      "text/html": [
       "<div>\n",
       "<table border=\"1\" class=\"dataframe\">\n",
       "  <thead>\n",
       "    <tr style=\"text-align: right;\">\n",
       "      <th></th>\n",
       "      <th>begin</th>\n",
       "      <th>end</th>\n",
       "      <th>type</th>\n",
       "    </tr>\n",
       "  </thead>\n",
       "  <tbody>\n",
       "    <tr>\n",
       "      <th>0</th>\n",
       "      <td>1</td>\n",
       "      <td>2</td>\n",
       "      <td>black</td>\n",
       "    </tr>\n",
       "    <tr>\n",
       "      <th>1</th>\n",
       "      <td>2</td>\n",
       "      <td>3</td>\n",
       "      <td>black</td>\n",
       "    </tr>\n",
       "    <tr>\n",
       "      <th>2</th>\n",
       "      <td>3</td>\n",
       "      <td>4</td>\n",
       "      <td>black</td>\n",
       "    </tr>\n",
       "    <tr>\n",
       "      <th>3</th>\n",
       "      <td>14</td>\n",
       "      <td>15</td>\n",
       "      <td>black</td>\n",
       "    </tr>\n",
       "    <tr>\n",
       "      <th>4</th>\n",
       "      <td>15</td>\n",
       "      <td>16</td>\n",
       "      <td>black</td>\n",
       "    </tr>\n",
       "  </tbody>\n",
       "</table>\n",
       "</div>"
      ],
      "text/plain": [
       "   begin  end   type\n",
       "0      1    2  black\n",
       "1      2    3  black\n",
       "2      3    4  black\n",
       "3     14   15  black\n",
       "4     15   16  black"
      ]
     },
     "execution_count": 3,
     "metadata": {},
     "output_type": "execute_result"
    }
   ],
   "source": [
    "linkarr = pd.read_csv(r\"{}/data/Frank-Wolfe-algo-data.csv\".format(os.getcwd()))\n",
    "linkarr.head()"
   ]
  },
  {
   "cell_type": "markdown",
   "metadata": {},
   "source": [
    "As for the costs, we use BPR function to compute the cost on each link. Cost on link $a$, called $t_a$, is a function of $x_a$:\n",
    "\n",
    "$$ t_a(x_a) = t_a^0 \\left[1 + \\alpha\\left(\\frac{x_a}{c_a'}\\right)\\right] $$\n",
    "\n",
    "where $\\alpha = 0.15, \\beta = 4, c_a' = 0.9c_a$."
   ]
  }
 ],
 "metadata": {
  "kernelspec": {
   "display_name": "Python 3",
   "language": "python",
   "name": "python3"
  },
  "language_info": {
   "codemirror_mode": {
    "name": "ipython",
    "version": 3
   },
   "file_extension": ".py",
   "mimetype": "text/x-python",
   "name": "python",
   "nbconvert_exporter": "python",
   "pygments_lexer": "ipython3",
   "version": "3.5.2"
  }
 },
 "nbformat": 4,
 "nbformat_minor": 2
}
