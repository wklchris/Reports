{
 "cells": [
  {
   "cell_type": "markdown",
   "metadata": {},
   "source": [
    "# Label Correcting Algorithm\n",
    "\n",
    "*Feb, 2017 by Kanglong Wu*\n",
    "\n",
    "In this report, two datasets are involved:\n",
    "- [**/data/Label-correcting-test.csv**](https://github.com/wklchris/Reports/blob/master/data/Label-correcting-test.csv): Test data. Based on a small network.\n",
    "- [**/data/Label-correcting-data.csv**](https://github.com/wklchris/Reports/blob/master/data/Label-correcting-data.csv): Data based on a relatively larger network. *(Data Source: anaheim.xlsx)*\n",
    "\n",
    "I use Python 3 to implement this algorithm, and [the Python code file can be accessed here](https://github.com/wklchris/Reports/blob/master/Label-correcting-algo.py). To ensure the code can be run on another computer, please install:\n",
    "- Python 3\n",
    "- Packages: Numpy and Pandas"
   ]
  },
  {
   "cell_type": "markdown",
   "metadata": {},
   "source": [
    "## Import data\n",
    "\n",
    "In the test dataset, we only need to know:\n",
    "\n",
    "- Start node of each link\n",
    "- End node of each link\n",
    "- Cost of each link\n",
    "\n",
    "**Costs are constant** under this test. So we take \"Free Flow Travel Time\" as costs of links."
   ]
  },
  {
   "cell_type": "code",
   "execution_count": 1,
   "metadata": {
    "collapsed": false
   },
   "outputs": [
    {
     "data": {
      "text/html": [
       "<div>\n",
       "<table border=\"1\" class=\"dataframe\">\n",
       "  <thead>\n",
       "    <tr style=\"text-align: right;\">\n",
       "      <th></th>\n",
       "      <th>start</th>\n",
       "      <th>end</th>\n",
       "      <th>Capacity</th>\n",
       "      <th>Length (ft)</th>\n",
       "      <th>Speed (ft/min)</th>\n",
       "      <th>Free Flow Travel Time (min)</th>\n",
       "      <th>Free Flow Speed (mph)</th>\n",
       "    </tr>\n",
       "  </thead>\n",
       "  <tbody>\n",
       "    <tr>\n",
       "      <th>0</th>\n",
       "      <td>a</td>\n",
       "      <td>b</td>\n",
       "      <td>0</td>\n",
       "      <td>0</td>\n",
       "      <td>0</td>\n",
       "      <td>3</td>\n",
       "      <td>0</td>\n",
       "    </tr>\n",
       "    <tr>\n",
       "      <th>1</th>\n",
       "      <td>a</td>\n",
       "      <td>c</td>\n",
       "      <td>0</td>\n",
       "      <td>0</td>\n",
       "      <td>0</td>\n",
       "      <td>8</td>\n",
       "      <td>0</td>\n",
       "    </tr>\n",
       "    <tr>\n",
       "      <th>2</th>\n",
       "      <td>a</td>\n",
       "      <td>d</td>\n",
       "      <td>0</td>\n",
       "      <td>0</td>\n",
       "      <td>0</td>\n",
       "      <td>5</td>\n",
       "      <td>0</td>\n",
       "    </tr>\n",
       "    <tr>\n",
       "      <th>3</th>\n",
       "      <td>b</td>\n",
       "      <td>c</td>\n",
       "      <td>0</td>\n",
       "      <td>0</td>\n",
       "      <td>0</td>\n",
       "      <td>5</td>\n",
       "      <td>0</td>\n",
       "    </tr>\n",
       "    <tr>\n",
       "      <th>4</th>\n",
       "      <td>b</td>\n",
       "      <td>f</td>\n",
       "      <td>0</td>\n",
       "      <td>0</td>\n",
       "      <td>0</td>\n",
       "      <td>7</td>\n",
       "      <td>0</td>\n",
       "    </tr>\n",
       "  </tbody>\n",
       "</table>\n",
       "</div>"
      ],
      "text/plain": [
       "  start end  Capacity  Length (ft)  Speed (ft/min)  \\\n",
       "0     a   b         0            0               0   \n",
       "1     a   c         0            0               0   \n",
       "2     a   d         0            0               0   \n",
       "3     b   c         0            0               0   \n",
       "4     b   f         0            0               0   \n",
       "\n",
       "   Free Flow Travel Time (min)  Free Flow Speed (mph)  \n",
       "0                            3                      0  \n",
       "1                            8                      0  \n",
       "2                            5                      0  \n",
       "3                            5                      0  \n",
       "4                            7                      0  "
      ]
     },
     "execution_count": 1,
     "metadata": {},
     "output_type": "execute_result"
    }
   ],
   "source": [
    "import os\n",
    "import numpy as np\n",
    "import pandas as pd\n",
    "\n",
    "dt_raw = pd.read_csv(r\"{}/data/Label-correcting-test.csv\".format(os.getcwd()))\n",
    "dt_raw.head()"
   ]
  },
  {
   "cell_type": "code",
   "execution_count": 2,
   "metadata": {
    "collapsed": false
   },
   "outputs": [
    {
     "data": {
      "text/html": [
       "<div>\n",
       "<table border=\"1\" class=\"dataframe\">\n",
       "  <thead>\n",
       "    <tr style=\"text-align: right;\">\n",
       "      <th></th>\n",
       "      <th>start</th>\n",
       "      <th>end</th>\n",
       "      <th>cost</th>\n",
       "    </tr>\n",
       "  </thead>\n",
       "  <tbody>\n",
       "    <tr>\n",
       "      <th>0</th>\n",
       "      <td>a</td>\n",
       "      <td>b</td>\n",
       "      <td>3</td>\n",
       "    </tr>\n",
       "    <tr>\n",
       "      <th>1</th>\n",
       "      <td>a</td>\n",
       "      <td>c</td>\n",
       "      <td>8</td>\n",
       "    </tr>\n",
       "    <tr>\n",
       "      <th>2</th>\n",
       "      <td>a</td>\n",
       "      <td>d</td>\n",
       "      <td>5</td>\n",
       "    </tr>\n",
       "    <tr>\n",
       "      <th>3</th>\n",
       "      <td>b</td>\n",
       "      <td>c</td>\n",
       "      <td>5</td>\n",
       "    </tr>\n",
       "    <tr>\n",
       "      <th>4</th>\n",
       "      <td>b</td>\n",
       "      <td>f</td>\n",
       "      <td>7</td>\n",
       "    </tr>\n",
       "  </tbody>\n",
       "</table>\n",
       "</div>"
      ],
      "text/plain": [
       "  start end  cost\n",
       "0     a   b     3\n",
       "1     a   c     8\n",
       "2     a   d     5\n",
       "3     b   c     5\n",
       "4     b   f     7"
      ]
     },
     "execution_count": 2,
     "metadata": {},
     "output_type": "execute_result"
    }
   ],
   "source": [
    "# Delete unnecessary variables (columns)\n",
    "dt_test = dt_raw.loc[:,[\"start\", \"end\", \"Free Flow Travel Time (min)\"]]\n",
    "dt_test.rename(columns={\"Free Flow Travel Time (min)\": \"cost\"}, inplace=True)\n",
    "dt_test.head()"
   ]
  },
  {
   "cell_type": "code",
   "execution_count": 3,
   "metadata": {
    "collapsed": false
   },
   "outputs": [
    {
     "data": {
      "text/plain": [
       "(18, 3)"
      ]
     },
     "execution_count": 3,
     "metadata": {},
     "output_type": "execute_result"
    }
   ],
   "source": [
    "dt_test.shape # Number of rows and columns"
   ]
  },
  {
   "cell_type": "markdown",
   "metadata": {},
   "source": [
    "## Implement the Algorithm\n",
    "\n",
    "Then we should define a function to implement the label correcting algorithm."
   ]
  },
  {
   "cell_type": "code",
   "execution_count": 4,
   "metadata": {
    "collapsed": true
   },
   "outputs": [],
   "source": [
    "def label_correcting_algo(dt, ori_node, des_node, do_return=False):\n",
    "    \"\"\"\n",
    "    Find the shortest path from Origin to Destination under a constant-link-costs network.\n",
    "    \n",
    "    Args:\n",
    "        dt: Network representation. At least 3 columns:\n",
    "              \"start\": start nodes of links\n",
    "              \"end\": end nodes of links\n",
    "              \"cost\": constant costs of links\n",
    "        ori_node: Origin node.\n",
    "        des_node: Destination node.\n",
    "        do_return: Boolean. \n",
    "            If True, Return a dataframe as described below.\n",
    "            If False, Return the shortest path string instead.\n",
    "        \n",
    "    Returns:\n",
    "        A dataframe of two columns:\n",
    "            \"Front-Node\": The node visited before current node on the shortest path.\n",
    "            \"Distance\": Total distance from origin to current node.\n",
    "    \"\"\"\n",
    "    # Convert all labels to string\n",
    "    ori = str(ori_node)\n",
    "    des = str(des_node)\n",
    "    dt[[\"start\", \"end\"]] = dt[[\"start\", \"end\"]].astype(str) \n",
    "    \n",
    "    # Initialization\n",
    "    nodes = set(dt.loc[:,\"start\"].unique()) | set(dt.loc[:,\"end\"].unique())\n",
    "    dist = {}.fromkeys(nodes, np.inf)\n",
    "    dist[ori] = 0\n",
    "    points = {}.fromkeys(nodes, ori)\n",
    "    iter_set = {ori}\n",
    "    \n",
    "    # Main Algo\n",
    "    while iter_set:\n",
    "        i = iter_set.pop()  # Randomly pop out a node i\n",
    "        A_i = dt[dt.start == i]\n",
    "        for row in A_i.index: \n",
    "            j = A_i.loc[:, \"end\"][row]\n",
    "            c_ij = A_i.loc[:, \"cost\"][row]\n",
    "            if dist[j] > dist[i] + c_ij:\n",
    "                dist[j] = dist[i] + c_ij\n",
    "                points[j] = i\n",
    "                iter_set = iter_set | set([j])  # Union\n",
    "    \n",
    "    # Print & Return the Answer\n",
    "    x = pd.concat([pd.Series(points), pd.Series(dist)], axis=1)\n",
    "    x.columns = [\"Front-node\", \"Distance\"]\n",
    "\n",
    "    current_node = des\n",
    "    front_node = \"\"\n",
    "    sp = des\n",
    "    while front_node != ori:\n",
    "        front_node = str(x.loc[current_node, \"Front-node\"])\n",
    "        sp = \"{} -> {}\".format(front_node, sp)\n",
    "        current_node = front_node\n",
    "    \n",
    "    sp = \"From node {} to node {}, total Distance: {}\\n{}\\n\".format(ori, des, x.loc[des, \"Distance\"], sp)\n",
    "    if do_return:\n",
    "        print(sp)\n",
    "        return x\n",
    "    else:\n",
    "        return sp"
   ]
  },
  {
   "cell_type": "markdown",
   "metadata": {},
   "source": [
    "Use this function to compute the shortest path between node $a$ and node $j$:"
   ]
  },
  {
   "cell_type": "code",
   "execution_count": 5,
   "metadata": {
    "collapsed": false
   },
   "outputs": [
    {
     "name": "stdout",
     "output_type": "stream",
     "text": [
      "From node a to node j, total Distance: 18\n",
      "a -> b -> f -> h -> j\n",
      "\n"
     ]
    },
    {
     "data": {
      "text/html": [
       "<div>\n",
       "<table border=\"1\" class=\"dataframe\">\n",
       "  <thead>\n",
       "    <tr style=\"text-align: right;\">\n",
       "      <th></th>\n",
       "      <th>Front-node</th>\n",
       "      <th>Distance</th>\n",
       "    </tr>\n",
       "  </thead>\n",
       "  <tbody>\n",
       "    <tr>\n",
       "      <th>a</th>\n",
       "      <td>a</td>\n",
       "      <td>0</td>\n",
       "    </tr>\n",
       "    <tr>\n",
       "      <th>b</th>\n",
       "      <td>a</td>\n",
       "      <td>3</td>\n",
       "    </tr>\n",
       "    <tr>\n",
       "      <th>c</th>\n",
       "      <td>a</td>\n",
       "      <td>8</td>\n",
       "    </tr>\n",
       "    <tr>\n",
       "      <th>d</th>\n",
       "      <td>a</td>\n",
       "      <td>5</td>\n",
       "    </tr>\n",
       "    <tr>\n",
       "      <th>e</th>\n",
       "      <td>f</td>\n",
       "      <td>15</td>\n",
       "    </tr>\n",
       "    <tr>\n",
       "      <th>f</th>\n",
       "      <td>b</td>\n",
       "      <td>10</td>\n",
       "    </tr>\n",
       "    <tr>\n",
       "      <th>g</th>\n",
       "      <td>d</td>\n",
       "      <td>9</td>\n",
       "    </tr>\n",
       "    <tr>\n",
       "      <th>h</th>\n",
       "      <td>f</td>\n",
       "      <td>16</td>\n",
       "    </tr>\n",
       "    <tr>\n",
       "      <th>i</th>\n",
       "      <td>g</td>\n",
       "      <td>13</td>\n",
       "    </tr>\n",
       "    <tr>\n",
       "      <th>j</th>\n",
       "      <td>h</td>\n",
       "      <td>18</td>\n",
       "    </tr>\n",
       "  </tbody>\n",
       "</table>\n",
       "</div>"
      ],
      "text/plain": [
       "  Front-node  Distance\n",
       "a          a         0\n",
       "b          a         3\n",
       "c          a         8\n",
       "d          a         5\n",
       "e          f        15\n",
       "f          b        10\n",
       "g          d         9\n",
       "h          f        16\n",
       "i          g        13\n",
       "j          h        18"
      ]
     },
     "execution_count": 5,
     "metadata": {},
     "output_type": "execute_result"
    }
   ],
   "source": [
    "label_correcting_algo(dt_test, \"a\", \"j\", do_return=True)"
   ]
  },
  {
   "cell_type": "markdown",
   "metadata": {
    "collapsed": false
   },
   "source": [
    "## Apply to a complex network\n",
    "\n",
    "Aforementioned result is just a simple check for algorithm implementation."
   ]
  },
  {
   "cell_type": "code",
   "execution_count": 6,
   "metadata": {
    "collapsed": false
   },
   "outputs": [
    {
     "data": {
      "text/html": [
       "<div>\n",
       "<table border=\"1\" class=\"dataframe\">\n",
       "  <thead>\n",
       "    <tr style=\"text-align: right;\">\n",
       "      <th></th>\n",
       "      <th>start</th>\n",
       "      <th>end</th>\n",
       "      <th>cost</th>\n",
       "    </tr>\n",
       "  </thead>\n",
       "  <tbody>\n",
       "    <tr>\n",
       "      <th>0</th>\n",
       "      <td>416</td>\n",
       "      <td>300</td>\n",
       "      <td>1.09</td>\n",
       "    </tr>\n",
       "    <tr>\n",
       "      <th>1</th>\n",
       "      <td>415</td>\n",
       "      <td>330</td>\n",
       "      <td>1.09</td>\n",
       "    </tr>\n",
       "    <tr>\n",
       "      <th>2</th>\n",
       "      <td>414</td>\n",
       "      <td>343</td>\n",
       "      <td>1.09</td>\n",
       "    </tr>\n",
       "    <tr>\n",
       "      <th>3</th>\n",
       "      <td>413</td>\n",
       "      <td>184</td>\n",
       "      <td>1.09</td>\n",
       "    </tr>\n",
       "    <tr>\n",
       "      <th>4</th>\n",
       "      <td>412</td>\n",
       "      <td>252</td>\n",
       "      <td>1.09</td>\n",
       "    </tr>\n",
       "  </tbody>\n",
       "</table>\n",
       "</div>"
      ],
      "text/plain": [
       "   start  end  cost\n",
       "0    416  300  1.09\n",
       "1    415  330  1.09\n",
       "2    414  343  1.09\n",
       "3    413  184  1.09\n",
       "4    412  252  1.09"
      ]
     },
     "execution_count": 6,
     "metadata": {},
     "output_type": "execute_result"
    }
   ],
   "source": [
    "dt_raw = pd.read_csv(r\"{}/data/Label-correcting-data.csv\".format(os.getcwd()))\n",
    "dt_app = dt_raw.loc[:,[\"start\", \"end\", \"Free Flow Travel Time (min)\"]]\n",
    "dt_app.rename(columns={\"Free Flow Travel Time (min)\": \"cost\"}, inplace=True)\n",
    "dt_app.head()"
   ]
  },
  {
   "cell_type": "markdown",
   "metadata": {},
   "source": [
    "Assume that we have 4 nodes: origin is picked from the first two nodes, destination is picked from the last two nodes.\n",
    "\n",
    "- Node 1\n",
    "- Node 2\n",
    "- Node 411\n",
    "- Node 300"
   ]
  },
  {
   "cell_type": "markdown",
   "metadata": {},
   "source": [
    "Compute these four O-D pairs:"
   ]
  },
  {
   "cell_type": "code",
   "execution_count": 7,
   "metadata": {
    "collapsed": true
   },
   "outputs": [],
   "source": [
    "app = []\n",
    "app.append(label_correcting_algo(dt_app, 1, 411))\n",
    "app.append(label_correcting_algo(dt_app, 1, 300))\n",
    "app.append(label_correcting_algo(dt_app, 2, 411))\n",
    "app.append(label_correcting_algo(dt_app, 2, 300))"
   ]
  },
  {
   "cell_type": "markdown",
   "metadata": {},
   "source": [
    "So our final results are as following:"
   ]
  },
  {
   "cell_type": "code",
   "execution_count": 8,
   "metadata": {
    "collapsed": false
   },
   "outputs": [
    {
     "name": "stdout",
     "output_type": "stream",
     "text": [
      "From node 1 to node 411, total Distance: 6.26\n",
      "1 -> 10 -> 9 -> 8 -> 250 -> 251 -> 411\n",
      "\n",
      "From node 1 to node 300, total Distance: 13.93\n",
      "1 -> 10 -> 9 -> 206 -> 207 -> 208 -> 25 -> 24 -> 23 -> 381 -> 39 -> 56 -> 384 -> 80 -> 388 -> 109 -> 122 -> 123 -> 124 -> 328 -> 329 -> 416 -> 300\n",
      "\n",
      "From node 2 to node 411, total Distance: 6.56\n",
      "2 -> 11 -> 379 -> 10 -> 9 -> 8 -> 250 -> 251 -> 411\n",
      "\n",
      "From node 2 to node 300, total Distance: 14.23\n",
      "2 -> 11 -> 379 -> 10 -> 9 -> 206 -> 207 -> 208 -> 25 -> 24 -> 23 -> 381 -> 39 -> 56 -> 384 -> 80 -> 388 -> 109 -> 122 -> 123 -> 124 -> 328 -> 329 -> 416 -> 300\n",
      "\n"
     ]
    }
   ],
   "source": [
    "print(\"\\n\".join(app))"
   ]
  }
 ],
 "metadata": {
  "kernelspec": {
   "display_name": "Python 3",
   "language": "python",
   "name": "python3"
  },
  "language_info": {
   "codemirror_mode": {
    "name": "ipython",
    "version": 3
   },
   "file_extension": ".py",
   "mimetype": "text/x-python",
   "name": "python",
   "nbconvert_exporter": "python",
   "pygments_lexer": "ipython3",
   "version": "3.5.2"
  }
 },
 "nbformat": 4,
 "nbformat_minor": 2
}
